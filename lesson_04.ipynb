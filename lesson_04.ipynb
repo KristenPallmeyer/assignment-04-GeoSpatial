{
 "cells": [
  {
   "cell_type": "markdown",
   "metadata": {},
   "source": [
    "# Lesson 4: Geospatial Data and Mapping in Python"
   ]
  },
  {
   "cell_type": "markdown",
   "metadata": {},
   "source": [
    "Today we're going to learn about using geospatial data in Python. Our focus will be on using the GeoPandas package: a package that handles geospatial in familiar Pandas objects like DataFrames and Series. \n",
    "\n",
    "We will learn how to pull geospatial data into our Python environment, create geographies, make geospatial joins, and map geospatial data. \n",
    "\n",
    "Geospatial data, sometimes called GIS data, is any data which is mapped onto the globe. The most common GIS data typically works with lattitudes and longitudes, but it can also include altitudes and sometimes other geographic information. Indeed, GIS stands for Geographic Information System, and so can generically refer to anything.\n",
    "\n",
    "## Exercise 1\n",
    "Let's start off by importing our typical suite of packages: Pandas, NumPy, and Matplotlib and setting our working directory."
   ]
  },
  {
   "cell_type": "code",
   "execution_count": null,
   "metadata": {
    "collapsed": true
   },
   "outputs": [],
   "source": []
  },
  {
   "cell_type": "markdown",
   "metadata": {},
   "source": [
    "## Exercise 2\n",
    "Now let's try importing GeoPandas (geopandas) with the alias gpd."
   ]
  },
  {
   "cell_type": "code",
   "execution_count": null,
   "metadata": {
    "collapsed": false
   },
   "outputs": [],
   "source": []
  },
  {
   "cell_type": "markdown",
   "metadata": {},
   "source": [
    "You probably received a message saying that you don't have the module 'geopandas'. So, let's go ahead and install geopandas into our Python environment.\n",
    "\n",
    "## Exercise 3\n",
    "Use the following command to install GeoPandas into your Python environment: conda install -c conda-forge geopandas.\n",
    "\n",
    "Now try importing GeoPandas again."
   ]
  },
  {
   "cell_type": "code",
   "execution_count": null,
   "metadata": {
    "collapsed": true
   },
   "outputs": [],
   "source": []
  },
  {
   "cell_type": "markdown",
   "metadata": {},
   "source": [
    "Great! Geospatial data comes in Shapefiles. GeoPandas will allow us to pull Shapefiles into our Python environment. However, Shapefiles aren't as simple as CSVs. Instead, they require other files to help define the geographic information it contains. Therefore, we have to download Shapefiles in ZIP folders containing all the different files we need.\n",
    "\n",
    "## Exercise 4\n",
    "Download the 2012 Ward data from the DC Open Data portal to your working directory, and extract all the files.\n",
    "\n",
    "Now we'll use GeoPandas to pull the Shapefile into our notebook as a GeoDataFrame."
   ]
  },
  {
   "cell_type": "code",
   "execution_count": null,
   "metadata": {
    "collapsed": false
   },
   "outputs": [],
   "source": [
    "wards = gpd.read_file('C:\\\\Users\\\\peter.casey\\\\Downloads\\\\Ward_from_2012\\\\Ward_from_2012.shp', crs='EPSG:4326')\n",
    "wards.head().T"
   ]
  },
  {
   "cell_type": "markdown",
   "metadata": {},
   "source": [
    "Because the Earth is a not-quite-sphere but our screens are flat, it is important to remember that working with geospatial data that it always consists of two parts: a projection (or coordinate reference system) and a collection of geometries.\n",
    "\n",
    "The most common projection of geospatial data you'll see is WGS84 (World Geodetic System 1984) which affixes to every point on the Earth a latitude an longitude. In other words, it is a Mercator projection. EPSG:4326 is WSG84 in EPSG language. The vast majority (all?) of DC data is based on the Master Address Repository (or MAR), which lists things in latitudes and longitudes in the WGS84 projection. Be warned when working with these sorts of files that you will potentially run into issues near the poles with Mercator projections, but they should be generally fine around DC.\n",
    "\n",
    "As for geometries, there are essentially three major building blocks: points, lines, and polygons. All GIS operations are defined for all three types (as well as combinations of all three types), but be warned that the behavior of, say, asking for the centroid of a point and a polygon may not behave as you expect. Each GeoPandas dataframe has a geometry that is either a polygon, line, or point.\n",
    "\n",
    "Let's take a look at the geometry column in our GeoPandas dataframe of the District's wards."
   ]
  },
  {
   "cell_type": "code",
   "execution_count": null,
   "metadata": {
    "collapsed": false
   },
   "outputs": [],
   "source": [
    "wards.geometry"
   ]
  },
  {
   "cell_type": "markdown",
   "metadata": {},
   "source": [
    "Now let's plot the geometries."
   ]
  },
  {
   "cell_type": "code",
   "execution_count": null,
   "metadata": {
    "collapsed": false
   },
   "outputs": [],
   "source": [
    "wards.geometry.plot()"
   ]
  },
  {
   "cell_type": "markdown",
   "metadata": {},
   "source": [
    "We can also create geometries from Pandas dataframes that have longitude and latitude. Let's do this with our 311 data from 2016.\n",
    "\n",
    "## Exercise 5\n",
    "Import the city service requests from 2016 that we've been using."
   ]
  },
  {
   "cell_type": "code",
   "execution_count": null,
   "metadata": {
    "collapsed": true
   },
   "outputs": [],
   "source": []
  },
  {
   "cell_type": "markdown",
   "metadata": {},
   "source": [
    "There are lots of service requests in the city each year, so let's focus in on just one. Perhaps one in which I have a little expertise...\n",
    "\n",
    "## Exercise 6\n",
    "Create a new dataframe called 'rats' from just the city service requests with the service code description 'Rodent Inspection and Treatment' from August 2016."
   ]
  },
  {
   "cell_type": "code",
   "execution_count": null,
   "metadata": {
    "collapsed": true
   },
   "outputs": [],
   "source": []
  },
  {
   "cell_type": "markdown",
   "metadata": {},
   "source": [
    "We can use the longitude and latitude columns to create a geometry for this data. \n",
    "\n",
    "For this we need to import Point function from the shapely package."
   ]
  },
  {
   "cell_type": "code",
   "execution_count": null,
   "metadata": {
    "collapsed": false
   },
   "outputs": [],
   "source": [
    "from shapely.geometry import Point\n",
    "\n",
    "geometry = [Point(xy) for xy in zip(rats.LONGITUDE.apply(float), rats.LATITUDE.apply(float))]"
   ]
  },
  {
   "cell_type": "markdown",
   "metadata": {},
   "source": [
    "We now have a geometry, in this case points. But recall that you also need a projection, or crs. If we want to match these points to our ward polygons, they need to have the same coordinate system. "
   ]
  },
  {
   "cell_type": "code",
   "execution_count": null,
   "metadata": {
    "collapsed": true
   },
   "outputs": [],
   "source": [
    "crs = {'init': 'epsg:4326'}"
   ]
  },
  {
   "cell_type": "markdown",
   "metadata": {},
   "source": [
    "Now that we have a geometry and a projection, we can combine them with the original Pandas dataframe into a new GeoPandas dataframe."
   ]
  },
  {
   "cell_type": "code",
   "execution_count": null,
   "metadata": {
    "collapsed": false
   },
   "outputs": [],
   "source": [
    "points = gpd.GeoDataFrame(rats, crs=crs, geometry=geometry)"
   ]
  },
  {
   "cell_type": "markdown",
   "metadata": {},
   "source": [
    "Great! Now we have a new GeoPandas dataframe with points for each of the requests for rodent inspection and treatment in 2016.\n",
    "\n",
    "We can now use this to map them on to DC. Let's try it out! \n",
    "\n",
    "We'll just look at requests for rodent inspection and treatment in August so the plot doesn't get too busy. "
   ]
  },
  {
   "cell_type": "code",
   "execution_count": null,
   "metadata": {
    "collapsed": false
   },
   "outputs": [],
   "source": [
    "points['Date'] = pd.to_datetime(rats['SERVICEORDERDATE'])\n",
    "points[points.Date.dt.month==8].geometry.plot()"
   ]
  },
  {
   "cell_type": "markdown",
   "metadata": {},
   "source": [
    "Neat! We can kind of see the outline of the District, but it would be even better to plot it ONTO the wards. Let's try that out."
   ]
  },
  {
   "cell_type": "code",
   "execution_count": null,
   "metadata": {
    "collapsed": false
   },
   "outputs": [],
   "source": [
    "fig, ax = plt.subplots()\n",
    "wards.plot(ax=ax)\n",
    "points[points.Date.dt.month==8].plot(ax=ax, color='black')"
   ]
  },
  {
   "cell_type": "markdown",
   "metadata": {},
   "source": [
    "Ugh! What's with the weird shape? Turns out we have to fix the figure's aspect ratio."
   ]
  },
  {
   "cell_type": "code",
   "execution_count": null,
   "metadata": {
    "collapsed": false
   },
   "outputs": [],
   "source": [
    "fig, ax = plt.subplots()\n",
    "wards.plot(ax=ax)\n",
    "points[points.Date.dt.month==8].plot(ax=ax, color='black')\n",
    "ax.set_aspect('equal')"
   ]
  },
  {
   "cell_type": "markdown",
   "metadata": {},
   "source": [
    "Much better but we can improve the map some by making it bigger, making the polygons white and the points translucent."
   ]
  },
  {
   "cell_type": "code",
   "execution_count": null,
   "metadata": {
    "collapsed": false
   },
   "outputs": [],
   "source": [
    "fig, ax = plt.subplots(figsize=(5,5))\n",
    "wards.plot(ax=ax, color='white')\n",
    "points[points.Date.dt.month==8].plot(ax=ax, color='blue', alpha=0.2)"
   ]
  },
  {
   "cell_type": "markdown",
   "metadata": {},
   "source": [
    "Now we're talking! But what if we want to get the number of requests for rodent inspection and treatment in each ward? And what if want to map the wards based on such an aggregate?\n",
    "\n",
    "We can also use SPATIAL JOINS to join the points we created to our ward polygons.\n",
    "\n",
    "Joins and merges are something we'll be doing a LOT of over the course of the semester. These are crucial for pulling together data from disparate sources. Often, joins and merges are based on the values of a column that two dataframes have in common. In fact, there's an \"easy way\" that we could combine this data by merging based on the WARD in each dataframe using the Pandas merge function."
   ]
  },
  {
   "cell_type": "code",
   "execution_count": null,
   "metadata": {
    "collapsed": false
   },
   "outputs": [],
   "source": [
    "ward_rats = wards.merge(points, how='left', on='WARD')\n",
    "ward_rats.head().T"
   ]
  },
  {
   "cell_type": "markdown",
   "metadata": {},
   "source": [
    "Our data is merged, but there are problems with such a merge. Such a merge creates a Pandas dataframe rather than a GeoPandas dataframe, so it does not preserve our geometry. We can recreate the geometry, but for the sake of this lesson, let's focus instead on the spatial join, since this will be necessary when a common column like 'WARD' is not available."
   ]
  },
  {
   "cell_type": "code",
   "execution_count": null,
   "metadata": {
    "collapsed": true
   },
   "outputs": [],
   "source": [
    "geo_rats = gpd.sjoin(wards, points, how='left', op='intersects')"
   ]
  },
  {
   "cell_type": "markdown",
   "metadata": {},
   "source": [
    "Let's dissect this. The 'how' parameter refers to the type of join. A 'left' join preserves the rows on the left. For example, if there were no requests for rodent inspection and treatment in Ward 7, this join would still include Ward 7 in the list of wards. The 'op' command tells us what relationship to look for between the geometries of the two GeoPandas dataframes. It does not matter what 'op' we choose for a points-to-polygons join, but it will matter when we join polygons. \n",
    "\n",
    "Now, let's take a look at the geometry of the new dataframe."
   ]
  },
  {
   "cell_type": "code",
   "execution_count": null,
   "metadata": {
    "collapsed": false
   },
   "outputs": [],
   "source": [
    "geo_rats.geometry.head()"
   ]
  },
  {
   "cell_type": "markdown",
   "metadata": {},
   "source": [
    "It's a polygon! Let's map it!"
   ]
  },
  {
   "cell_type": "code",
   "execution_count": null,
   "metadata": {
    "collapsed": false
   },
   "outputs": [],
   "source": [
    "geo_rats.geometry.plot()"
   ]
  },
  {
   "cell_type": "markdown",
   "metadata": {},
   "source": [
    "Oh no! That doesn't help us at all! How do we create a useful plot?\n",
    "\n",
    "First, let's create an informative aggregate, like the percent of rat calls citywide that are in each ward. We'll do this by get a count of the number of requests in each ward and then dividing it by the total number of requests."
   ]
  },
  {
   "cell_type": "code",
   "execution_count": null,
   "metadata": {
    "collapsed": false
   },
   "outputs": [],
   "source": [
    "geo_rats.WARD.value_counts/rats.shape[0]"
   ]
  },
  {
   "cell_type": "markdown",
   "metadata": {},
   "source": [
    "Oops! What went wrong?\n",
    "\n",
    "Take a look at the columns. When we do a join and the two dataframes each has a column of the same name (such as \"WARD\"), then the function will add a suffix to each. In this case, \"left\" and \"right\". Let's try it again. "
   ]
  },
  {
   "cell_type": "code",
   "execution_count": null,
   "metadata": {
    "collapsed": false
   },
   "outputs": [],
   "source": [
    "geo_rats.WARD_left.value_counts()/geo_rats.shape[0]"
   ]
  },
  {
   "cell_type": "markdown",
   "metadata": {},
   "source": [
    "As I mentioned before, this provides us with an index and a column of values, so we can actually make this into a DataFrame."
   ]
  },
  {
   "cell_type": "code",
   "execution_count": null,
   "metadata": {
    "collapsed": false
   },
   "outputs": [],
   "source": [
    "rats_pcttot = pd.DataFrame(geo_rats.WARD_left.value_counts()/geo_rats.shape[0])\n",
    "rats_pcttot.columns = ['rats_pcttot']\n",
    "rats_pcttot"
   ]
  },
  {
   "cell_type": "markdown",
   "metadata": {},
   "source": [
    "Now we can merge this to the wards GeoDataFrame and map it."
   ]
  },
  {
   "cell_type": "code",
   "execution_count": null,
   "metadata": {
    "collapsed": false
   },
   "outputs": [],
   "source": [
    "ward_rats = wards.merge(rats_pcttot, how=\"left\", left_on='WARD', right_index=True)\n",
    "ward_rats.head().T"
   ]
  },
  {
   "cell_type": "markdown",
   "metadata": {},
   "source": [
    "Now we can create a heat map."
   ]
  },
  {
   "cell_type": "code",
   "execution_count": null,
   "metadata": {
    "collapsed": false
   },
   "outputs": [],
   "source": [
    "ward_rats.plot(column='rats_pcttot', cmap='YlOrRd')"
   ]
  },
  {
   "cell_type": "markdown",
   "metadata": {},
   "source": [
    "We can also create a color bar to help us interpret the heatmap."
   ]
  },
  {
   "cell_type": "code",
   "execution_count": null,
   "metadata": {
    "collapsed": false
   },
   "outputs": [],
   "source": [
    "vmin = ward_rats.rats_pcttot.min()\n",
    "vmax = ward_rats.rats_pcttot.max()\n",
    "\n",
    "ax = ward_rats.plot('rats_pcttot', cmap='YlOrRd', vmin=vmin, vmax=vmax)\n",
    "\n",
    "fig = ax.get_figure()\n",
    "cax = fig.add_axes([0.9, 0.1, 0.03, 0.8])\n",
    "sm = plt.cm.ScalarMappable(cmap='YlOrRd', norm=plt.Normalize(vmin=vmin, vmax=vmax))\n",
    "# fake up the array of the scalar mappable. Urgh...\n",
    "sm._A = []\n",
    "fig.colorbar(sm, cax=cax)"
   ]
  },
  {
   "cell_type": "markdown",
   "metadata": {},
   "source": [
    "## Exercise 7\n",
    "Now that we've shown the distribution of requests for rodent inspection and treatment across wards, let's look at Advisory Neighborhood Commissions, or ANCs. Each of DC's seven wards is divided into ANCs that deal with neighborhood needs at an even more local levels. Find the 2013 ANC's on the Open Data Portal, download and extract the Shapefile and pull it into the notebook as a GeoPandas dataframe. Then join city service requests to this GeoDataFrame. You may use whichever requests you'd like to explore. Create aggregates and maps like the ones we created above, and let's share them in class. Enjoy!"
   ]
  },
  {
   "cell_type": "code",
   "execution_count": null,
   "metadata": {
    "collapsed": true
   },
   "outputs": [],
   "source": []
  }
 ],
 "metadata": {
  "anaconda-cloud": {},
  "kernelspec": {
   "display_name": "Python [conda env:py35]",
   "language": "python",
   "name": "conda-env-py35-py"
  },
  "language_info": {
   "codemirror_mode": {
    "name": "ipython",
    "version": 3
   },
   "file_extension": ".py",
   "mimetype": "text/x-python",
   "name": "python",
   "nbconvert_exporter": "python",
   "pygments_lexer": "ipython3",
   "version": "3.5.2"
  }
 },
 "nbformat": 4,
 "nbformat_minor": 1
}
